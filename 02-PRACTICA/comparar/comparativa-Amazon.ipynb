{
 "cells": [
  {
   "cell_type": "code",
   "execution_count": 1,
   "metadata": {},
   "outputs": [
    {
     "name": "stdout",
     "output_type": "stream",
     "text": [
      "Collecting yfinanceNote: you may need to restart the kernel to use updated packages.\n",
      "\n",
      "  Downloading yfinance-0.1.63.tar.gz (26 kB)\n",
      "Requirement already satisfied, skipping upgrade: pandas>=0.24 in c:\\programdata\\anaconda3\\lib\\site-packages (from yfinance) (1.1.3)\n",
      "Requirement already satisfied, skipping upgrade: numpy>=1.15 in c:\\programdata\\anaconda3\\lib\\site-packages (from yfinance) (1.19.2)\n",
      "Requirement already satisfied, skipping upgrade: requests>=2.20 in c:\\programdata\\anaconda3\\lib\\site-packages (from yfinance) (2.24.0)\n",
      "Collecting multitasking>=0.0.7\n",
      "  Downloading multitasking-0.0.9.tar.gz (8.1 kB)\n",
      "Requirement already satisfied, skipping upgrade: lxml>=4.5.1 in c:\\programdata\\anaconda3\\lib\\site-packages (from yfinance) (4.6.1)\n",
      "Requirement already satisfied, skipping upgrade: pytz>=2017.2 in c:\\programdata\\anaconda3\\lib\\site-packages (from pandas>=0.24->yfinance) (2020.1)\n",
      "Requirement already satisfied, skipping upgrade: python-dateutil>=2.7.3 in c:\\programdata\\anaconda3\\lib\\site-packages (from pandas>=0.24->yfinance) (2.8.1)\n",
      "Requirement already satisfied, skipping upgrade: urllib3!=1.25.0,!=1.25.1,<1.26,>=1.21.1 in c:\\programdata\\anaconda3\\lib\\site-packages (from requests>=2.20->yfinance) (1.25.11)\n",
      "Requirement already satisfied, skipping upgrade: chardet<4,>=3.0.2 in c:\\programdata\\anaconda3\\lib\\site-packages (from requests>=2.20->yfinance) (3.0.4)\n",
      "Requirement already satisfied, skipping upgrade: idna<3,>=2.5 in c:\\programdata\\anaconda3\\lib\\site-packages (from requests>=2.20->yfinance) (2.10)\n",
      "Requirement already satisfied, skipping upgrade: certifi>=2017.4.17 in c:\\programdata\\anaconda3\\lib\\site-packages (from requests>=2.20->yfinance) (2020.6.20)\n",
      "Requirement already satisfied, skipping upgrade: six>=1.5 in c:\\programdata\\anaconda3\\lib\\site-packages (from python-dateutil>=2.7.3->pandas>=0.24->yfinance) (1.15.0)\n",
      "Building wheels for collected packages: yfinance, multitasking\n",
      "  Building wheel for yfinance (setup.py): started\n",
      "  Building wheel for yfinance (setup.py): finished with status 'done'\n",
      "  Created wheel for yfinance: filename=yfinance-0.1.63-py2.py3-none-any.whl size=23914 sha256=c492d0663ab0f79c6e89cec4f3b1618aee5c71dd2915fe47fd2294f191e84d19\n",
      "  Stored in directory: C:\\Users\\AbiCnn\\AppData\\Local\\Temp\\pip-ephem-wheel-cache-jb5prelu\\wheels\\ec\\cc\\c1\\32da8ee853d742d5d7cbd11ee04421222eb354672020b57297\n",
      "  Building wheel for multitasking (setup.py): started\n",
      "  Building wheel for multitasking (setup.py): finished with status 'done'\n",
      "  Created wheel for multitasking: filename=multitasking-0.0.9-py3-none-any.whl size=8372 sha256=34c563067f1edec69b0d776e0722f09437ad249370e8651b1e9728456ba7f442\n",
      "  Stored in directory: C:\\Users\\AbiCnn\\AppData\\Local\\Temp\\pip-ephem-wheel-cache-jb5prelu\\wheels\\57\\6d\\a3\\a39b839cc75274d2acfb1c58bfead2f726c6577fe8c4723f13\n",
      "Successfully built yfinance multitasking\n",
      "Installing collected packages: multitasking, yfinance\n",
      "Successfully installed multitasking-0.0.9 yfinance-0.1.63\n"
     ]
    }
   ],
   "source": [
    "pip install yfinance --upgrade --no-cache-dir"
   ]
  },
  {
   "cell_type": "code",
   "execution_count": 2,
   "metadata": {},
   "outputs": [],
   "source": [
    "import numpy as np\n",
    "import pandas as pd\n",
    "import matplotlib.pyplot as plt\n",
    "import yfinance as yf"
   ]
  },
  {
   "cell_type": "code",
   "execution_count": 3,
   "metadata": {},
   "outputs": [
    {
     "name": "stdout",
     "output_type": "stream",
     "text": [
      "{'zip': '98109-5210', 'sector': 'Consumer Cyclical', 'fullTimeEmployees': 1335000, 'longBusinessSummary': 'Amazon.com, Inc. engages in the retail sale of consumer products and subscriptions in North America and internationally. The company operates through three segments: North America, International, and Amazon Web Services (AWS). It sells merchandise and content purchased for resale from third-party sellers through physical and online stores. The company also manufactures and sells electronic devices, including Kindle, Fire tablets, Fire TVs, Rings, and Echo and other devices; provides Kindle Direct Publishing, an online service that allows independent authors and publishers to make their books available in the Kindle Store; and develops and produces media content. In addition, it offers programs that enable sellers to sell their products on its websites, as well as its stores; and programs that allow authors, musicians, filmmakers, skill and app developers, and others to publish and sell content. Further, the company provides compute, storage, database, analytics, machine learning, and other services, as well as fulfillment, advertising, publishing, and digital content subscriptions. Additionally, it offers Amazon Prime, a membership program, which provides free shipping of various items; access to streaming of movies and TV episodes; and other services. The company serves consumers, sellers, developers, enterprises, and content creators. Amazon.com, Inc. was founded in 1994 and is headquartered in Seattle, Washington.', 'city': 'Seattle', 'phone': '206-266-1000', 'state': 'WA', 'country': 'United States', 'companyOfficers': [], 'website': 'http://www.amazon.com', 'maxAge': 1, 'address1': '410 Terry Avenue North', 'industry': 'Internet Retail', 'ebitdaMargins': 0.13382, 'profitMargins': 0.06641, 'grossMargins': 0.40679002, 'operatingCashflow': 59322998784, 'revenueGrowth': 0.272, 'operatingMargins': 0.06685, 'ebitda': 59320999936, 'targetLowPrice': 3775, 'recommendationKey': 'buy', 'grossProfits': 152757000000, 'freeCashflow': 16914750464, 'targetMedianPrice': 4100, 'currentPrice': 3283.26, 'earningsGrowth': 0.468, 'currentRatio': 1.196, 'returnOnAssets': 0.05988, 'numberOfAnalystOpinions': 52, 'targetMeanPrice': 4149.52, 'debtToEquity': 107.355, 'returnOnEquity': 0.31229, 'targetHighPrice': 5000, 'totalCash': 89894002688, 'totalDebt': 123247001600, 'totalRevenue': 443297988608, 'totalCashPerShare': 177.502, 'financialCurrency': 'USD', 'revenuePerShare': 881.308, 'quickRatio': 0.989, 'recommendationMean': 1.7, 'exchange': 'NMS', 'shortName': 'Amazon.com, Inc.', 'longName': 'Amazon.com, Inc.', 'exchangeTimezoneName': 'America/New_York', 'exchangeTimezoneShortName': 'EDT', 'isEsgPopulated': False, 'gmtOffSetMilliseconds': '-14400000', 'quoteType': 'EQUITY', 'symbol': 'AMZN', 'messageBoardId': 'finmb_18749', 'market': 'us_market', 'annualHoldingsTurnover': None, 'enterpriseToRevenue': 3.826, 'beta3Year': None, 'enterpriseToEbitda': 28.592, '52WeekChange': 0.026831746, 'morningStarRiskRating': None, 'forwardEps': 66.5, 'revenueQuarterlyGrowth': None, 'sharesOutstanding': 506440992, 'fundInceptionDate': None, 'annualReportExpenseRatio': None, 'totalAssets': None, 'bookValue': 226.883, 'sharesShort': 5330390, 'sharesPercentSharesOut': 0.0105, 'fundFamily': None, 'lastFiscalYearEnd': 1609372800, 'heldPercentInstitutions': 0.59716, 'netIncomeToCommon': 29437999104, 'trailingEps': 57.395, 'lastDividendValue': None, 'SandP52WeekChange': 0.26372707, 'priceToBook': 14.47116, 'heldPercentInsiders': 0.13606, 'nextFiscalYearEnd': 1672444800, 'yield': None, 'mostRecentQuarter': 1625011200, 'shortRatio': 1.84, 'sharesShortPreviousMonthDate': 1628812800, 'floatShares': 454348048, 'beta': 1.143558, 'enterpriseValue': 1696128958464, 'priceHint': 2, 'threeYearAverageReturn': None, 'lastSplitDate': None, 'lastSplitFactor': None, 'legalType': None, 'lastDividendDate': None, 'morningStarOverallRating': None, 'earningsQuarterlyGrowth': 0.484, 'priceToSalesTrailing12Months': 3.7509248, 'dateShortInterest': 1631664000, 'pegRatio': 1.83, 'ytdReturn': None, 'forwardPE': 49.37233, 'lastCapGain': None, 'shortPercentOfFloat': 0.012200001, 'sharesShortPriorMonth': 5094455, 'impliedSharesOutstanding': None, 'category': None, 'fiveYearAverageReturn': None, 'previousClose': 3285.04, 'regularMarketOpen': 3289.01, 'twoHundredDayAverage': 3361.0889, 'trailingAnnualDividendYield': None, 'payoutRatio': 0, 'volume24Hr': None, 'regularMarketDayHigh': 3309.1746, 'navPrice': None, 'averageDailyVolume10Day': 2911000, 'regularMarketPreviousClose': 3285.04, 'fiftyDayAverage': 3377.1619, 'trailingAnnualDividendRate': None, 'open': 3289.01, 'toCurrency': None, 'averageVolume10days': 2911000, 'expireDate': None, 'algorithm': None, 'dividendRate': None, 'exDividendDate': None, 'circulatingSupply': None, 'startDate': None, 'regularMarketDayLow': 3255.94, 'currency': 'USD', 'trailingPE': 57.204636, 'regularMarketVolume': 2724202, 'lastMarket': None, 'maxSupply': None, 'openInterest': None, 'marketCap': 1662777425920, 'volumeAllCurrencies': None, 'strikePrice': None, 'averageVolume': 3286049, 'dayLow': 3255.94, 'ask': 3282.06, 'askSize': 800, 'volume': 2724202, 'fiftyTwoWeekHigh': 3773.08, 'fromCurrency': None, 'fiveYearAvgDividendYield': None, 'fiftyTwoWeekLow': 2881, 'bid': 3280, 'tradeable': False, 'dividendYield': None, 'bidSize': 800, 'dayHigh': 3309.1746, 'regularMarketPrice': 3283.26, 'logo_url': 'https://logo.clearbit.com/amazon.com'}\n"
     ]
    }
   ],
   "source": [
    "import yfinance as yf\n",
    "\n",
    "Amazon = yf.Ticker(\"AMZN\")\n",
    "print(Amazon.info) \n",
    "#outcome {'zip': '98109-5210', 'sector': 'Consumer Cyclical', segments: North America, International, and Amazon Web Services (AWS). It sells ...'website': 'http://www.amazon.com', 'maxAge': 1, 'averageVolume': 4122014, 'priceToSalesTrailing12Months': 4.705928, 'dayLow': 3175, 'ask': 3267, 'ytdReturn': None, 'askSize': 900, 'volume': 5060028, 'fiftyTwoWeekHigh': 3552.25, 'forwardPE': 71.65964, 'fromCurrency': None, 'fiveYearAvgDividendYield': None, 'fiftyTwoWeekLow....}"
   ]
  },
  {
   "cell_type": "code",
   "execution_count": 4,
   "metadata": {},
   "outputs": [
    {
     "name": "stdout",
     "output_type": "stream",
     "text": [
      "3282.06\n",
      "3280\n"
     ]
    }
   ],
   "source": [
    "print(Amazon.info['ask']) #Precio al que compro una acción\n",
    "print(Amazon.info['bid']) #Precio al que vendo una acción"
   ]
  },
  {
   "cell_type": "code",
   "execution_count": 5,
   "metadata": {},
   "outputs": [
    {
     "name": "stdout",
     "output_type": "stream",
     "text": [
      "[*********************100%***********************]  2 of 2 completed\n",
      "              AMZN                                                      \\\n",
      "              Open         High          Low        Close    Adj Close   \n",
      "Date                                                                     \n",
      "2021-09-03  3452.0  3482.669922  3436.439941  3478.050049  3478.050049   \n",
      "\n",
      "                          MSFT                                                 \\\n",
      "             Volume       Open        High        Low       Close   Adj Close   \n",
      "Date                                                                            \n",
      "2021-09-03  2575700  300.98999  302.600006  300.26001  301.140015  301.140015   \n",
      "\n",
      "                      \n",
      "              Volume  \n",
      "Date                  \n",
      "2021-09-03  14747900  \n"
     ]
    }
   ],
   "source": [
    "import yfinance as yf\n",
    "df = yf.download(\"AMZN MSFT\", start=\"2021-09-03\", end=\"2021-09-04\",group_by=\"ticker\") \n",
    "print(df)"
   ]
  },
  {
   "cell_type": "code",
   "execution_count": 6,
   "metadata": {},
   "outputs": [
    {
     "name": "stdout",
     "output_type": "stream",
     "text": [
      "              Open         High          Low        Close    Adj Close  \\\n",
      "Date                                                                     \n",
      "2021-09-03  3452.0  3482.669922  3436.439941  3478.050049  3478.050049   \n",
      "\n",
      "             Volume  \n",
      "Date                 \n",
      "2021-09-03  2575700  \n"
     ]
    }
   ],
   "source": [
    "#Cotización de Amazon del dóa 02/09/2021\n",
    "print(df.AMZN)"
   ]
  },
  {
   "cell_type": "code",
   "execution_count": 7,
   "metadata": {},
   "outputs": [
    {
     "data": {
      "text/plain": [
       "pandas.core.frame.DataFrame"
      ]
     },
     "execution_count": 7,
     "metadata": {},
     "output_type": "execute_result"
    }
   ],
   "source": [
    "#Tipo de dato\n",
    "type(df.AMZN)"
   ]
  },
  {
   "cell_type": "code",
   "execution_count": 8,
   "metadata": {},
   "outputs": [
    {
     "data": {
      "text/plain": [
       "<AxesSubplot:title={'center':\"APPLE's stock price\"}, xlabel='Date'>"
      ]
     },
     "execution_count": 8,
     "metadata": {},
     "output_type": "execute_result"
    },
    {
     "data": {
      "image/png": "[encoded data removed]",
      "text/plain": [
       "<Figure size 432x288 with 1 Axes>"
      ]
     },
     "metadata": {
      "needs_background": "light"
     },
     "output_type": "display_data"
    }
   ],
   "source": [
    "ticker = yf.Ticker('AAPL')\n",
    "aapl_df = ticker.history(period=\"5y\")\n",
    "aapl_df['Close'].plot(title=\"APPLE's stock price\")"
   ]
  },
  {
   "cell_type": "code",
   "execution_count": null,
   "metadata": {},
   "outputs": [],
   "source": []
  },
  {
   "cell_type": "code",
   "execution_count": null,
   "metadata": {},
   "outputs": [],
   "source": []
  }
 ],
 "metadata": {
  "kernelspec": {
   "display_name": "Python 3",
   "language": "python",
   "name": "python3"
  },
  "language_info": {
   "codemirror_mode": {
    "name": "ipython",
    "version": 3
   },
   "file_extension": ".py",
   "mimetype": "text/x-python",
   "name": "python",
   "nbconvert_exporter": "python",
   "pygments_lexer": "ipython3",
   "version": "3.8.5"
  }
 },
 "nbformat": 4,
 "nbformat_minor": 4
}
